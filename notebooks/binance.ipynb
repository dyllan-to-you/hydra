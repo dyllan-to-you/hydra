{
 "cells": [
  {
   "cell_type": "code",
   "execution_count": 18,
   "metadata": {},
   "outputs": [
    {
     "data": {
      "text/plain": [
       "True"
      ]
     },
     "execution_count": 18,
     "metadata": {},
     "output_type": "execute_result"
    }
   ],
   "source": [
    "import os\n",
    "from dotenv import load_dotenv\n",
    "load_dotenv('../dyllan.env')"
   ]
  },
  {
   "cell_type": "code",
   "execution_count": 19,
   "metadata": {},
   "outputs": [
    {
     "name": "stdout",
     "output_type": "stream",
     "text": [
      "<generator object Client._historical_klines_generator at 0x7fce562a8430>\n",
      "                 Open time        Open        High         Low       Close  \\\n",
      "0      2020-11-12 03:05:00  15624.2100  15629.9900  15624.0000  15626.6500   \n",
      "1      2020-11-12 03:06:00  15625.0000  15625.0000  15624.9800  15625.0000   \n",
      "2      2020-11-12 03:07:00  15625.0000  15640.1000  15625.0000  15640.1000   \n",
      "3      2020-11-12 03:08:00  15640.1000  15646.5500  15640.0900  15646.5500   \n",
      "4      2020-11-12 03:09:00  15652.8500  15655.1600  15650.6700  15652.5000   \n",
      "...                    ...         ...         ...         ...         ...   \n",
      "524928 2021-11-12 03:08:00  64899.6600  64909.7300  64899.1600  64906.5400   \n",
      "524929 2021-11-12 03:09:00  64917.9400  64930.0800  64862.4200  64876.0500   \n",
      "524930 2021-11-12 03:10:00  64866.7000  64910.7200  64863.5100  64908.7000   \n",
      "524931 2021-11-12 03:11:00  64905.1500  64925.1900  64901.9200  64911.8000   \n",
      "524932 2021-11-12 03:12:00  64903.3500  64903.3500  64898.0400  64898.0400   \n",
      "\n",
      "            Volume     Close time Quote asset volume  Number of trades  \\\n",
      "0       0.60523600  1605150359999          9457.2507                62   \n",
      "1       0.60119900  1605150419999          9393.7333                23   \n",
      "2       0.20898200  1605150479999          3265.9914                15   \n",
      "3       0.06140500  1605150539999           960.3871                18   \n",
      "4       0.43101300  1605150599999          6746.1814                14   \n",
      "...            ...            ...                ...               ...   \n",
      "524928  0.36001900  1636686539999         23367.8137                12   \n",
      "524929  4.57513900  1636686599999        296968.2274                39   \n",
      "524930  0.35880000  1636686659999         23281.8031                31   \n",
      "524931  0.24058100  1636686719999         15618.5393                26   \n",
      "524932  0.02991100  1636686779999          1941.2302                 7   \n",
      "\n",
      "       Taker buy base asset volume Taker buy quote asset volume ignore  \n",
      "0                       0.20099800                    3140.4532      0  \n",
      "1                       0.59972600                    9370.7178      0  \n",
      "2                       0.20356100                    3181.2385      0  \n",
      "3                       0.02932300                     458.6183      0  \n",
      "4                       0.39901700                    6245.3162      0  \n",
      "...                            ...                          ...    ...  \n",
      "524928                  0.00000000                       0.0000      0  \n",
      "524929                  0.27819200                   18049.4415      0  \n",
      "524930                  0.31903600                   20701.2329      0  \n",
      "524931                  0.02826100                    1834.4270      0  \n",
      "524932                  0.00000000                       0.0000      0  \n",
      "\n",
      "[524933 rows x 12 columns]\n"
     ]
    }
   ],
   "source": [
    "import pandas as pd\n",
    "import numpy as np\n",
    "from binance import Client, ThreadedWebsocketManager, ThreadedDepthCacheManager\n",
    "client = Client(os.environ['BINANCE_APIKEY'], os.environ['BINANCE_SECRET'], tld='us')\n",
    "\n",
    "PAIR = 'BTCUSD'\n",
    "\n",
    "klines = client.get_historical_klines_generator(PAIR, Client.KLINE_INTERVAL_1MINUTE, \"1 year ago UTC\")\n",
    "klines_df = pd.DataFrame(klines, columns=[\n",
    "    \"Open time\",\n",
    "    \"Open\",\n",
    "    \"High\",\n",
    "    \"Low\",\n",
    "    \"Close\",\n",
    "    \"Volume\",\n",
    "    \"Close time\",\n",
    "    \"Quote asset volume\",\n",
    "    \"Number of trades\",\n",
    "    \"Taker buy base asset volume\",\n",
    "    \"Taker buy quote asset volume\",\n",
    "    \"ignore\"\n",
    "])\n",
    "klines_df['Open time'] = pd.to_datetime(klines_df['Open time'],unit='ms')\n",
    "\"\"\"\n",
    "[\n",
    "    [\n",
    "        1499040000000,      # \"Open time\"\n",
    "        \"0.01634790\",       # \"Open\"\n",
    "        \"0.80000000\",       # \"High\"\n",
    "        \"0.01575800\",       # \"Low\"\n",
    "        \"0.01577100\",       # \"Close\"\n",
    "        \"148976.11427815\",  # \"Volume\"\n",
    "        1499644799999,      # \"Close time\"\n",
    "        \"2434.19055334\",    # \"Quote asset volume\"\n",
    "        308,                # \"Number of trades\"\n",
    "        \"1756.87402397\",    # \"Taker buy base asset volume\"\n",
    "        \"28.46694368\",      # \"Taker buy quote asset volume\"\n",
    "        \"17928899.62484339\" # Can be ignored\n",
    "    ]\n",
    "]\n",
    "\"\"\"\n",
    "print(klines)\n",
    "print(klines_df)"
   ]
  }
 ],
 "metadata": {
  "interpreter": {
   "hash": "b2c77fa36c158e14132dc331c6174c8eec681b3b73552f941978a153810e7436"
  },
  "kernelspec": {
   "display_name": "Python 3.8.10 64-bit ('hydra-Qraj0X5q-py3.8': poetry)",
   "language": "python",
   "name": "python3"
  },
  "language_info": {
   "codemirror_mode": {
    "name": "ipython",
    "version": 3
   },
   "file_extension": ".py",
   "mimetype": "text/x-python",
   "name": "python",
   "nbconvert_exporter": "python",
   "pygments_lexer": "ipython3",
   "version": "3.8.10"
  },
  "orig_nbformat": 4
 },
 "nbformat": 4,
 "nbformat_minor": 2
}
