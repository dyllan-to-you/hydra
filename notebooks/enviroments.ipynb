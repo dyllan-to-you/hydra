{
 "cells": [
  {
   "cell_type": "code",
   "execution_count": 3,
   "metadata": {},
   "outputs": [
    {
     "name": "stdout",
     "output_type": "stream",
     "text": [
      "2020-05-01 00:00:00 2020-08-01 00:00:00\n"
     ]
    },
    {
     "data": {
      "application/vnd.jupyter.widget-view+json": {
       "model_id": "828bb2e29e2e493a80d112083c8bf4a0",
       "version_major": 2,
       "version_minor": 0
      },
      "text/plain": [
       "FigureWidget({\n",
       "    'data': [{'close': array([ 9004.7    ,  8824.6    ,  8854.9    ,  8983.1    ,  9052.6    ,\n",
       "…"
      ]
     },
     "metadata": {},
     "output_type": "display_data"
    }
   ],
   "source": [
    "import pickle\n",
    "from operator import itemgetter\n",
    "import pandas as pd\n",
    "import plotly.graph_objects as go\n",
    "\n",
    "from hydra.plotly_charts import PlotlyPriceChart, supersample_data\n",
    "from hydra.utils import split_dupes\n",
    "\n",
    "filename = \"../2020-05-01 1d count=365 overlap=18h detrend=True.enviro\"\n",
    "file = None\n",
    "with open(filename, \"rb\") as handle:\n",
    "    file = pickle.load(handle)\n",
    "interesting, charts, aggregate, inputs = itemgetter('data', 'charts', 'aggregate', 'inputs')(file)\n",
    "timecap = pd.to_timedelta(inputs['timecap'])\n",
    "overlap = pd.to_timedelta(inputs['overlap'])\n",
    "traceCount = int(1.0/((timecap-overlap)/timecap))\n",
    "\n",
    "\n",
    "pair = \"XBTUSD\"\n",
    "startDate = charts[0]['startDate']\n",
    "endDate = charts[-1]['endDate']\n",
    "# startDate = \"2017-05-15 00:00\"\n",
    "# endDate = \"2020-05-16 00:00\"\n",
    "print(startDate, endDate)\n",
    "trendlines = {i:[] for i in range(traceCount)}\n",
    "ifft_prices = {i:[] for i in range(traceCount)}\n",
    "for index, chart in enumerate(charts):\n",
    "    idx = index % traceCount\n",
    "    trendlines[idx].append(chart['trendline'])\n",
    "    ifft_prices[idx].append(chart['majority_price_proportion'])\n",
    "\n",
    "# print(trendlines)\n",
    "priceChart = PlotlyPriceChart(pair, startDate, endDate)\n",
    "\n",
    "def add_trace(priceChart, data, chartParams={}, interval=1):\n",
    "    d = pd.concat(data)\n",
    "    supersampled = supersample_data(d, interval)\n",
    "    priceChart.add_trace( \n",
    "        go.Scatter(x=supersampled[1440].index, y=supersampled[1440].values, **chartParams), \n",
    "        supersampled, \n",
    "        {\"x\": \"index\", \"y\": \"values\"},\n",
    "        startDate,\n",
    "        endDate\n",
    "    )\n",
    "    \n",
    "\n",
    "for index in range(traceCount):\n",
    "    add_trace(priceChart, trendlines[index], {\"mode\":\"markers\", \"name\":f\"trend-{index}\"})\n",
    "    add_trace(priceChart, ifft_prices[index], {\"mode\":\"lines\", \"name\":f\"ifft-{index}\"})\n",
    "\n",
    "priceChart.figure\n"
   ]
  }
 ],
 "metadata": {
  "interpreter": {
   "hash": "b2c77fa36c158e14132dc331c6174c8eec681b3b73552f941978a153810e7436"
  },
  "kernelspec": {
   "display_name": "Python 3.8.10 64-bit ('hydra-Qraj0X5q-py3.8': poetry)",
   "name": "python3"
  },
  "language_info": {
   "codemirror_mode": {
    "name": "ipython",
    "version": 3
   },
   "file_extension": ".py",
   "mimetype": "text/x-python",
   "name": "python",
   "nbconvert_exporter": "python",
   "pygments_lexer": "ipython3",
   "version": "3.8.10"
  },
  "orig_nbformat": 4
 },
 "nbformat": 4,
 "nbformat_minor": 2
}
