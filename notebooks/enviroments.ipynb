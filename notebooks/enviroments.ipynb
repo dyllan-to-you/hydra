{
 "cells": [
  {
   "cell_type": "code",
   "execution_count": 1,
   "metadata": {},
   "outputs": [
    {
     "name": "stdout",
     "output_type": "stream",
     "text": [
      "2020-05-01 00:00:00 2020-08-01 00:00:00\n",
      "add_trace Scatter({\n",
      "    'x': [2020-05-01 00:00:00, 2020-05-01 06:00:00, 2020-05-01 12:00:00, ...,\n",
      "          2020-07-30 12:00:00, 2020-07-30 18:00:00, 2020-07-31 00:00:00],\n",
      "    'y': [6, 5, 2, ..., 1, 2, 2]\n",
      "}) None None (1, 1)\n"
     ]
    },
    {
     "data": {
      "application/vnd.jupyter.widget-view+json": {
       "model_id": "97b86c10b686434094d270a9f293899c",
       "version_major": 2,
       "version_minor": 0
      },
      "text/plain": [
       "FigureWidget({\n",
       "    'data': [{'close': array([ 9004.7    ,  8824.6    ,  8854.9    ,  8983.1    ,  9052.6    ,\n",
       "…"
      ]
     },
     "metadata": {},
     "output_type": "display_data"
    }
   ],
   "source": [
    "import pickle\n",
    "from operator import itemgetter\n",
    "import pandas as pd\n",
    "import plotly.graph_objects as go\n",
    "\n",
    "from hydra.plotly_charts import PlotlyPriceChart, supersample_data\n",
    "from hydra.utils import split_dupes\n",
    "\n",
    "\n",
    "SYMBOLS = [\"circle\", \"square\", \"diamond-tall\", \"diamond-wide\"]\n",
    "COLORS = 'afmhot_r'\n",
    "filename = \"../2020-05-01 1d count=365 overlap=18h detrend=True.enviro\"\n",
    "\n",
    "\n",
    "file = None\n",
    "with open(filename, \"rb\") as handle:\n",
    "    file = pickle.load(handle)\n",
    "interesting, charts, aggregate, inputs = itemgetter('data', 'charts', 'aggregate', 'inputs')(file)\n",
    "timecap = pd.to_timedelta(inputs['timecap'])\n",
    "overlap = pd.to_timedelta(inputs['overlap'])\n",
    "traceCount = int(1.0/((timecap-overlap)/timecap))\n",
    "complexity = {'date':[], 'values':[]}\n",
    "for idx, (colname, frequencies) in enumerate(aggregate.iteritems()):\n",
    "    complexity['date'].append(charts[idx]['trendline'].index[0])\n",
    "    complexity['values'].append((frequencies != 0).sum())\n",
    "\n",
    "\n",
    "pair = inputs['pair']\n",
    "startDate = charts[0]['startDate']\n",
    "endDate = charts[-1]['endDate']\n",
    "# startDate = \"2017-05-15 00:00\"\n",
    "# endDate = \"2020-05-16 00:00\"\n",
    "print(startDate, endDate)\n",
    "chart_data = {i:{\n",
    "    \"trendline\":[],\n",
    "    \"ifft_price\":[]\n",
    "} for i in range(traceCount)}\n",
    "\n",
    "for index, chart in enumerate(charts):\n",
    "    idx = index % traceCount\n",
    "    chart_data[idx]['trendline'].append(chart['trendline'])\n",
    "    chart_data[idx]['ifft_price'].append(chart['majority_price'])\n",
    "    \n",
    "\n",
    "# print(trendlines)\n",
    "priceChart = PlotlyPriceChart(pair, startDate, endDate)\n",
    "\n",
    "def add_trace(priceChart, data, chartParams={}, interval=1):\n",
    "    d = pd.concat(data)\n",
    "    supersampled = supersample_data(d, interval)\n",
    "    priceChart.add_trace( \n",
    "        go.Scatter(x=supersampled[1440].index, y=supersampled[1440].values, **chartParams), \n",
    "        supersampled, \n",
    "        {\"x\": \"index\", \"y\": \"values\"},\n",
    "    )\n",
    "    \n",
    "# print(len(aggregate))\n",
    "for index in range(traceCount):\n",
    "    add_trace(priceChart, chart_data[index]['ifft_price'], {\"mode\":\"lines\", \"name\":f\"ifft-{index}\"})\n",
    "for index in range(traceCount):\n",
    "    add_trace(priceChart, chart_data[index]['trendline'], {\"mode\":\"markers\", \"name\":f\"trend-{index}\", \"marker_symbol\":SYMBOLS[index]})\n",
    "\n",
    "priceChart.add_trace(\n",
    "    go.Scatter(x=complexity['date'], y=complexity['values']), loc=(1,1), log=True\n",
    ")\n",
    "    # priceChart.figure.add_vline(x=startDate, line_width=3)\n",
    "\n",
    "priceChart.render()\n"
   ]
  }
 ],
 "metadata": {
  "interpreter": {
   "hash": "b2c77fa36c158e14132dc331c6174c8eec681b3b73552f941978a153810e7436"
  },
  "kernelspec": {
   "display_name": "Python 3.8.10 64-bit ('hydra-Qraj0X5q-py3.8': poetry)",
   "name": "python3"
  },
  "language_info": {
   "codemirror_mode": {
    "name": "ipython",
    "version": 3
   },
   "file_extension": ".py",
   "mimetype": "text/x-python",
   "name": "python",
   "nbconvert_exporter": "python",
   "pygments_lexer": "ipython3",
   "version": "3.8.10"
  },
  "orig_nbformat": 4
 },
 "nbformat": 4,
 "nbformat_minor": 2
}
