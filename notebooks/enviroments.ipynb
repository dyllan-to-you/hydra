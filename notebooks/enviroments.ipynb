{
 "cells": [
  {
   "cell_type": "code",
   "execution_count": null,
   "metadata": {},
   "outputs": [],
   "source": []
  },
  {
   "cell_type": "code",
   "execution_count": null,
   "metadata": {},
   "outputs": [],
   "source": [
    "import pickle\n",
    "from operator import itemgetter\n",
    "import pandas as pd\n",
    "import plotly.graph_objects as go\n",
    "\n",
    "from hydra.plotly_charts import graph, supersample_data, add_trace\n",
    "from hydra.utils import split_dupes\n",
    "\n",
    "filename = \"../2020-05-01 1d count=365 overlap='18h' detrend=True.enviro\"\n",
    "file = None\n",
    "with open(filename, \"rb\") as handle:\n",
    "    file = pickle.load(handle)\n",
    "interesting, charts, aggregate = itemgetter('data', 'charts', 'aggregate')(file)\n",
    "\n",
    "\n",
    "pair = \"XBTUSD\"\n",
    "startDate = charts[0]['startDate']\n",
    "endDate = charts[-1]['endDate']\n",
    "# startDate = \"2017-05-15 00:00\"\n",
    "# endDate = \"2020-05-16 00:00\"\n",
    "\n",
    "\n",
    "trendline = pd.concat([chart['trendline'] for chart in charts])\n",
    "trendlines = split_dupes(trendline)\n",
    "figure = graph(pair, startDate, endDate)\n",
    "\n",
    "for trend in trendlines[:1]:\n",
    "    supersampled_trend = supersample_data(trend, 1)\n",
    "    add_trace(\n",
    "        figure, \n",
    "        go.Scatter(x=supersampled_trend[1440].index, y=supersampled_trend[1440].values), \n",
    "        supersampled_trend, \n",
    "        {\"x\": \"index\", \"y\": \"values\"},\n",
    "        startDate,\n",
    "        endDate\n",
    "    )\n",
    "\n",
    "widget\n"
   ]
  }
 ],
 "metadata": {
  "interpreter": {
   "hash": "88fd7268309d08f18505f526f15f2edba627a1735d0213ec11d5cec7842c1308"
  },
  "kernelspec": {
   "display_name": "Python 3.8.10 64-bit ('hydra-Qraj0X5q-py3.8': poetry)",
   "name": "python3"
  },
  "language_info": {
   "codemirror_mode": {
    "name": "ipython",
    "version": 3
   },
   "file_extension": ".py",
   "mimetype": "text/x-python",
   "name": "python",
   "nbconvert_exporter": "python",
   "pygments_lexer": "ipython3",
   "version": "3.8.10"
  },
  "orig_nbformat": 4
 },
 "nbformat": 4,
 "nbformat_minor": 2
}
