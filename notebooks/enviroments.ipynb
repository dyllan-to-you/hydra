{
 "cells": [
  {
   "cell_type": "code",
   "execution_count": 10,
   "metadata": {},
   "outputs": [
    {
     "name": "stdout",
     "output_type": "stream",
     "text": [
      "2020-05-01 00:00:00 2020-07-31 23:59:00\n"
     ]
    },
    {
     "data": {
      "application/vnd.jupyter.widget-view+json": {
       "model_id": "cf7774bc44dc442facab310969f1fb9e",
       "version_major": 2,
       "version_minor": 0
      },
      "text/plain": [
       "FigureWidget({\n",
       "    'data': [{'close': array([ 9004.7    ,  8824.6    ,  8854.9    ,  8983.1    ,  9052.6    ,\n",
       "…"
      ]
     },
     "metadata": {},
     "output_type": "display_data"
    }
   ],
   "source": [
    "import pickle\n",
    "from operator import itemgetter\n",
    "import pandas as pd\n",
    "import plotly.graph_objects as go\n",
    "\n",
    "from hydra.plotly_charts import PlotlyPriceChart, supersample_data\n",
    "from hydra.utils import split_dupes\n",
    "\n",
    "\n",
    "SYMBOLS = [\"circle\", \"square\", \"diamond-tall\", \"diamond-wide\"]\n",
    "COLORS = [\"red\", \"blue\", \"lime\", \"goldenrod\"]\n",
    "HEATMAP_COLORS = 'afmhot_r'\n",
    "filename = \"../2020-05-01 1d count=365 overlap=18h detrend=True.enviro\"\n",
    "\n",
    "\n",
    "file = None\n",
    "with open(filename, \"rb\") as handle:\n",
    "    file = pickle.load(handle)\n",
    "interesting, charts, aggregate, inputs = itemgetter('data', 'charts', 'aggregate', 'inputs')(file)\n",
    "timecap = pd.to_timedelta(inputs['timecap'])\n",
    "overlap = pd.to_timedelta(inputs['overlap'])\n",
    "traceCount = min(int(1.0/((timecap-overlap)/timecap)), len(charts))\n",
    "kept_frequencies = aggregate['values']\n",
    "# print(kept_frequencies)\n",
    "complexity = aggregate['normalized']\n",
    " \n",
    "\n",
    "pair = inputs['pair']\n",
    "startDate = charts[0]['startDate']\n",
    "endDate = charts[-1]['endDate']\n",
    "# startDate = \"2017-05-15 00:00\"\n",
    "# endDate = \"2020-05-16 00:00\"\n",
    "print(startDate, endDate)\n",
    "chart_data = {i:{\n",
    "    \"trendline\":[],\n",
    "    \"ifft_price\":[],\n",
    "    \"extrapolated_up\": [],\n",
    "    \"extrapolated_down\": [],\n",
    "    \"extrapolated_color\": COLORS[i],\n",
    "    \"startDate\":[],\n",
    "    \"endDate\": []\n",
    "} for i in range(traceCount)}\n",
    "\n",
    "for index, chart in enumerate(charts):\n",
    "    idx = index % traceCount\n",
    "    chart_data[idx]['trendline'].append(chart['trendline'])\n",
    "    chart_data[idx]['ifft_price'].append(chart['approximated_price'])\n",
    "    chart_data[idx]['extrapolated_up'].append(chart['extrapolated_up'])\n",
    "    chart_data[idx]['extrapolated_down'].append(chart['extrapolated_down'])\n",
    "    chart_data[idx]['startDate'].append(chart['startDate'])\n",
    "    chart_data[idx]['endDate'].append(chart['endDate'])\n",
    "    \n",
    "\n",
    "# print(trendlines)\n",
    "priceChart = PlotlyPriceChart(pair, startDate, endDate)\n",
    "\n",
    "def add_trace(data, chartParams={}, interval=1, skip_supersample=False):\n",
    "    if skip_supersample:\n",
    "        priceChart.add_trace( \n",
    "            go.Scatter(x=data.index, y=data.values, **chartParams), \n",
    "        )\n",
    "        return\n",
    "\n",
    "    supersampled = supersample_data(data, interval)\n",
    "    priceChart.add_trace( \n",
    "        go.Scatter(x=supersampled[1440].index, y=supersampled[1440].values, **chartParams), \n",
    "        data=supersampled, \n",
    "    )\n",
    "\n",
    "\n",
    "for index in range(traceCount):\n",
    "    if index in chart_data:\n",
    "        data = pd.concat(chart_data[index]['ifft_price'])\n",
    "        add_trace(data, chartParams={\"mode\":\"lines\", \"name\":f\"ifft-{index}\"})\n",
    "for index in range(traceCount):\n",
    "    if index in chart_data:\n",
    "        data = pd.concat(chart_data[index]['trendline'])\n",
    "        add_trace(data, chartParams={\"mode\":\"markers\", \"name\":f\"trend-{index}\", \"marker_symbol\":SYMBOLS[index]})\n",
    "for index in range(traceCount):\n",
    "    if index in chart_data:\n",
    "        data = pd.concat(chart_data[index]['extrapolated_up'])\n",
    "        add_trace(data, chartParams={\n",
    "            \"mode\":\"markers\", \n",
    "            \"name\":f\"extra-up-{index}\", \n",
    "            \"marker_symbol\": \"triangle-up\", \n",
    "            \"marker_size\":10, \n",
    "            \"line_color\":chart_data[index][\"extrapolated_color\"],\n",
    "            # \"text\": chart_data[index]['endDate']\n",
    "        }, skip_supersample=True)\n",
    "        data = pd.concat(chart_data[index]['extrapolated_down'])\n",
    "        add_trace(data, chartParams={\n",
    "            \"mode\":\"markers\", \n",
    "            \"name\":f\"extra-down-{index}\", \n",
    "            \"marker_symbol\": \"triangle-down\", \n",
    "            \"marker_size\":10, \n",
    "            \"line_color\":chart_data[index][\"extrapolated_color\"],\n",
    "            # \"text\": chart_data[index]['endDate']\n",
    "        }, skip_supersample=True)\n",
    "\n",
    "priceChart.add_trace(\n",
    "    go.Heatmap(z=complexity.values.tolist(), x=complexity.columns.tolist(), y=complexity.index.tolist(), showscale=False), \n",
    "    loc=(1,1),\n",
    "    traceArgs={}\n",
    ")\n",
    "    # priceChart.figure.add_vline(x=startDate, line_width=3)\n",
    "\n",
    "priceChart.render()\n"
   ]
  }
 ],
 "metadata": {
  "interpreter": {
   "hash": "b2c77fa36c158e14132dc331c6174c8eec681b3b73552f941978a153810e7436"
  },
  "kernelspec": {
   "display_name": "Python 3.8.10 64-bit ('hydra-Qraj0X5q-py3.8': poetry)",
   "name": "python3"
  },
  "language_info": {
   "codemirror_mode": {
    "name": "ipython",
    "version": 3
   },
   "file_extension": ".py",
   "mimetype": "text/x-python",
   "name": "python",
   "nbconvert_exporter": "python",
   "pygments_lexer": "ipython3",
   "version": "3.8.10"
  },
  "orig_nbformat": 4
 },
 "nbformat": 4,
 "nbformat_minor": 2
}
