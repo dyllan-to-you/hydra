{
 "metadata": {
  "language_info": {
   "codemirror_mode": {
    "name": "ipython",
    "version": 3
   },
   "file_extension": ".py",
   "mimetype": "text/x-python",
   "name": "python",
   "nbconvert_exporter": "python",
   "pygments_lexer": "ipython3",
   "version": "3.8.8-final"
  },
  "orig_nbformat": 2,
  "kernelspec": {
   "name": "python3",
   "display_name": "Python 3.8.8 64-bit ('.venv')",
   "metadata": {
    "interpreter": {
     "hash": "c25d9eb1e3b30541d161f8ab50f71c62e58758325f5db647a1255b4c0091d617"
    }
   }
  }
 },
 "nbformat": 4,
 "nbformat_minor": 2,
 "cells": [
  {
   "source": [
    "from pathlib import Path\n",
    "import vectorbt as vbt\n",
    "from hydra.SuperSim import load_prices\n",
    "\n",
    "def load_portfolio(name):    \n",
    "    output_dir = Path.cwd().joinpath('..', 'output')\n",
    "    filepath = output_dir.joinpath(name)\n",
    "    return vbt.Portfolio.load(filepath)\n",
    "\n",
    "vbt.settings.ohlcv[\"column_names\"] = {\n",
    "    \"open\": \"open\",\n",
    "    \"high\": \"high\",\n",
    "    \"low\": \"low\",\n",
    "    \"close\": \"close\",\n",
    "    \"volume\": \"volume\",\n",
    "}\n",
    "\n",
    "pair='XBTUSD'\n",
    "start='2018-05-15'\n",
    "end='2018-07-15'\n",
    "interval=1\n",
    "\n",
    "portfolio = load_portfolio(f\"{pair} {start} {end} {interval} Aroon 100-101.portfolio\")\n",
    "prices = {}\n",
    "prices[1] = load_prices(pair, '../data/kraken', start, end, 1)\n",
    "prices[5] = load_prices(pair, '../data/kraken', start, end, 5)\n",
    "prices[15] = load_prices(pair, '../data/kraken', start, end, 15)\n",
    "prices[60] = load_prices(pair, '../data/kraken', start, end, 60)\n",
    "prices[720] = load_prices(pair, '../data/kraken', start, end,720)\n",
    "prices[1440] = load_prices(pair, '../data/kraken', start, end, 1440)\n",
    "AROONOSC = vbt.IndicatorFactory.from_talib(\"AROONOSC\")\n",
    "# printd(help(AROONOSC.run))\n",
    "aroonosc = AROONOSC.run(\n",
    "    prices[1][\"high\"], prices[1][\"low\"], timeperiod=[100]\n",
    ")\n",
    "\n",
    "\n"
   ],
   "cell_type": "code",
   "metadata": {},
   "execution_count": 12,
   "outputs": []
  },
  {
   "cell_type": "code",
   "execution_count": null,
   "metadata": {
    "tags": []
   },
   "outputs": [],
   "source": [
    "import plotly.graph_objects as go\n",
    "import hydra.utils as utils\n",
    "candlestick = go.Candlestick(\n",
    "        x=prices[1440].index,\n",
    "        open=prices[1440][\"open\"],\n",
    "        high=prices[1440][\"high\"],\n",
    "        low=prices[1440][\"low\"],\n",
    "        close=prices[1440][\"close\"],\n",
    "        hoverinfo=\"all\",\n",
    "    )\n",
    "\n",
    "\n",
    "\n",
    "def handler(obj, xrange):\n",
    "    [start, end] = xrange.range\n",
    "    print(obj, xrange, args)\n",
    "\n",
    "figure = go.Figure(\n",
    "    data=[candlestick], \n",
    "    layout=go.Layout(\n",
    "        title=dict(\n",
    "            text='FLYBABYFLY'\n",
    "        ),\n",
    "        barmode='overlay'\n",
    "    )\n",
    ")\n",
    "\n",
    "\n",
    "widget = go.FigureWidget(figure)\n",
    "widget.layout.on_change(handler, 'xaxis')\n",
    "widget\n"
   ]
  },
  {
   "source": [
    "portfolio.value().vbt.plot()"
   ],
   "cell_type": "code",
   "metadata": {},
   "execution_count": null,
   "outputs": []
  },
  {
   "cell_type": "code",
   "execution_count": null,
   "metadata": {},
   "outputs": [],
   "source": [
    "prices.vbt.ohlcv.plot()"
   ]
  }
 ]
}