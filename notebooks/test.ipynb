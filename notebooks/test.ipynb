{
 "metadata": {
  "language_info": {
   "codemirror_mode": {
    "name": "ipython",
    "version": 3
   },
   "file_extension": ".py",
   "mimetype": "text/x-python",
   "name": "python",
   "nbconvert_exporter": "python",
   "pygments_lexer": "ipython3",
   "version": "3.8.8-final"
  },
  "orig_nbformat": 2,
  "kernelspec": {
   "name": "python3",
   "display_name": "Python 3.8.8 64-bit ('.venv')",
   "metadata": {
    "interpreter": {
     "hash": "c25d9eb1e3b30541d161f8ab50f71c62e58758325f5db647a1255b4c0091d617"
    }
   }
  }
 },
 "nbformat": 4,
 "nbformat_minor": 2,
 "cells": [
  {
   "cell_type": "code",
   "execution_count": 14,
   "metadata": {},
   "outputs": [],
   "source": [
    "from pathlib import Path\n",
    "import vectorbt as vbt\n",
    "from hydra.SuperSim import load_prices\n",
    "\n",
    "def load_portfolio(name):    \n",
    "    output_dir = Path.cwd().joinpath('..', 'output')\n",
    "    filepath = output_dir.joinpath(name)\n",
    "    return vbt.Portfolio.load(filepath)\n",
    "\n",
    "vbt.settings.ohlcv[\"column_names\"] = {\n",
    "    \"open\": \"open\",\n",
    "    \"high\": \"high\",\n",
    "    \"low\": \"low\",\n",
    "    \"close\": \"close\",\n",
    "    \"volume\": \"volume\",\n",
    "}\n",
    "\n",
    "pair='XBTUSD'\n",
    "start='2018-05-15 00:00:00'\n",
    "end='2018-05-15 1:30:00'\n",
    "interval=1\n",
    "\n",
    "#portfolio = load_portfolio(f\"{pair} {start} {end} {interval} Aroon 100-101.portfolio\")\n",
    "prices = {}\n",
    "prices[1] = load_prices(pair, '../data/kraken', start, end, 1)\n",
    "prices[5] = load_prices(pair, '../data/kraken', start, end, 5)\n",
    "prices[15] = load_prices(pair, '../data/kraken', start, end, 15)\n",
    "prices[60] = load_prices(pair, '../data/kraken', start, end, 60)\n",
    "prices[720] = load_prices(pair, '../data/kraken', start, end,720)\n",
    "prices[1440] = load_prices(pair, '../data/kraken', start, end, 1440)\n",
    "AROONOSC = vbt.IndicatorFactory.from_talib(\"AROONOSC\")\n",
    "# printd(help(AROONOSC.run))\n",
    "aroonosc = AROONOSC.run(\n",
    "    prices[1][\"high\"], prices[1][\"low\"], timeperiod=[100]\n",
    ")\n",
    "\n"
   ]
  },
  {
   "cell_type": "code",
   "execution_count": 15,
   "metadata": {},
   "outputs": [
    {
     "output_type": "stream",
     "name": "stdout",
     "text": [
      "              open    high     low   close       volume\ntime                                                   \n2018-05-15  8661.6  8862.0  8421.0  8462.8  3875.260105\n"
     ]
    }
   ],
   "source": [
    "import plotly.graph_objects as go\n",
    "import pandas as pd\n",
    "import hydra.utils as utils\n",
    "from datetime import datetime, timedelta\n",
    "\n",
    "\n",
    "candlestick = go.Candlestick(\n",
    "        x=prices[1440].index,\n",
    "        open=prices[1440][\"open\"],\n",
    "        high=prices[1440][\"high\"],\n",
    "        low=prices[1440][\"low\"],\n",
    "        close=prices[1440][\"close\"],\n",
    "        hoverinfo=\"all\",\n",
    "    )\n",
    "print(prices[1440])\n",
    "\n",
    "def parsedatetime(dt):\n",
    "    return pd.to_datetime(dt)\n",
    "    # return datetime.strptime(dt, '%Y-%m-%d %H:%M')\n",
    "start='2018-05-15 00:30:00'\n",
    "end='2018-05-15 1:00:00'\n",
    "\n",
    "start_date = parsedatetime(start)\n",
    "end_date = parsedatetime(end)\n",
    "delta = end_date - start_date\n",
    "delta_m = delta.total_seconds() / 60\n",
    "if delta_m < 2000:\n",
    "    interval = 1\n",
    "elif delta_m < 2000 * 5:\n",
    "    interval = 5\n",
    "elif delta_m < 2000 * 15:\n",
    "    interval = 15\n",
    "elif delta_m < 2000 * 60:\n",
    "    interval = 60\n",
    "elif delta_m < 2000 * 720:\n",
    "    interval = 720\n",
    "else:\n",
    "    interval = 1440\n",
    "precise_price = prices[interval].loc[start_date:end_date]\n",
    "orig_price = prices[1440]\n",
    "the_price = pd.concat([orig_price, precise_price]).sort_index()\n",
    "f = open('log.txt', \"a\")\n",
    "fakestart = start_date - timedelta(minutes=10)\n",
    "fakeend = end_date + timedelta(minutes=10)\n",
    "f.write(f\"[{utils.now()}] {start} {end} {delta} {delta_m} {interval} \\n{precise_price} \\n {fakestart} {fakeend} \\n{the_price.loc[fakestart:fakeend]}\\n\")\n",
    "f.close()\n"
   ]
  }
 ]
}